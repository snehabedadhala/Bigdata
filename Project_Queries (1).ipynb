{
 "cells": [
  {
   "cell_type": "code",
   "execution_count": 1,
   "id": "4aed53bc-46d9-4151-8a32-6fff20617a89",
   "metadata": {},
   "outputs": [],
   "source": [
    "from pyspark.sql import SparkSession\n",
    "\n",
    "spark = SparkSession.builder.getOrCreate()"
   ]
  },
  {
   "cell_type": "code",
   "execution_count": 2,
   "id": "29d7f859-7441-485e-ba41-57db7bbde601",
   "metadata": {},
   "outputs": [
    {
     "name": "stdout",
     "output_type": "stream",
     "text": [
      "+---+------+---------+---------+--------------------+--------------------+--------------------+-------------+------+----------+--------------------+-----------+--------------+---------------+--------------------+--------------------+-------------+-------+\n",
      "| id|season|     city|     date|               team1|               team2|         toss_winner|toss_decision|result|dl_applied|              winner|win_by_runs|win_by_wickets|player_of_match|               venue|             umpire1|      umpire2|umpire3|\n",
      "+---+------+---------+---------+--------------------+--------------------+--------------------+-------------+------+----------+--------------------+-----------+--------------+---------------+--------------------+--------------------+-------------+-------+\n",
      "|  1|  2017|Hyderabad| 4/5/2017| Sunrisers Hyderabad|Royal Challengers...|Royal Challengers...|        field|normal|         0| Sunrisers Hyderabad|         35|             0|   Yuvraj Singh|Rajiv Gandhi Inte...|         AY Dandekar|     NJ Llong|   null|\n",
      "|  2|  2017|     Pune| 4/6/2017|      Mumbai Indians|Rising Pune Super...|Rising Pune Super...|        field|normal|         0|Rising Pune Super...|          0|             7|      SPD Smith|Maharashtra Crick...|      A Nand Kishore|       S Ravi|   null|\n",
      "|  3|  2017|   Rajkot| 4/7/2017|       Gujarat Lions|Kolkata Knight Ri...|Kolkata Knight Ri...|        field|normal|         0|Kolkata Knight Ri...|          0|            10|        CA Lynn|Saurashtra Cricke...|         Nitin Menon|    CK Nandan|   null|\n",
      "|  4|  2017|   Indore| 4/8/2017|Rising Pune Super...|     Kings XI Punjab|     Kings XI Punjab|        field|normal|         0|     Kings XI Punjab|          0|             6|     GJ Maxwell|Holkar Cricket St...|        AK Chaudhary|C Shamshuddin|   null|\n",
      "|  5|  2017|Bangalore| 4/8/2017|Royal Challengers...|    Delhi Daredevils|Royal Challengers...|          bat|normal|         0|Royal Challengers...|         15|             0|      KM Jadhav|M Chinnaswamy Sta...|                null|         null|   null|\n",
      "|  6|  2017|Hyderabad| 4/9/2017|       Gujarat Lions| Sunrisers Hyderabad| Sunrisers Hyderabad|        field|normal|         0| Sunrisers Hyderabad|          0|             9|    Rashid Khan|Rajiv Gandhi Inte...|          A Deshmukh|     NJ Llong|   null|\n",
      "|  7|  2017|   Mumbai| 4/9/2017|Kolkata Knight Ri...|      Mumbai Indians|      Mumbai Indians|        field|normal|         0|      Mumbai Indians|          0|             4|         N Rana|    Wankhede Stadium|         Nitin Menon|    CK Nandan|   null|\n",
      "|  8|  2017|   Indore|4/10/2017|Royal Challengers...|     Kings XI Punjab|Royal Challengers...|          bat|normal|         0|     Kings XI Punjab|          0|             8|       AR Patel|Holkar Cricket St...|        AK Chaudhary|C Shamshuddin|   null|\n",
      "|  9|  2017|     Pune|4/11/2017|    Delhi Daredevils|Rising Pune Super...|Rising Pune Super...|        field|normal|         0|    Delhi Daredevils|         97|             0|      SV Samson|Maharashtra Crick...|         AY Dandekar|       S Ravi|   null|\n",
      "| 10|  2017|   Mumbai|4/12/2017| Sunrisers Hyderabad|      Mumbai Indians|      Mumbai Indians|        field|normal|         0|      Mumbai Indians|          0|             4|      JJ Bumrah|    Wankhede Stadium|         Nitin Menon|    CK Nandan|   null|\n",
      "| 11|  2017|  Kolkata|4/13/2017|     Kings XI Punjab|Kolkata Knight Ri...|Kolkata Knight Ri...|        field|normal|         0|Kolkata Knight Ri...|          0|             8|      SP Narine|        Eden Gardens|          A Deshmukh|     NJ Llong|   null|\n",
      "| 12|  2017|Bangalore|4/14/2017|Royal Challengers...|      Mumbai Indians|      Mumbai Indians|        field|normal|         0|      Mumbai Indians|          0|             4|     KA Pollard|M Chinnaswamy Sta...|KN Ananthapadmana...| AK Chaudhary|   null|\n",
      "| 13|  2017|   Rajkot|4/14/2017|Rising Pune Super...|       Gujarat Lions|       Gujarat Lions|        field|normal|         0|       Gujarat Lions|          0|             7|         AJ Tye|Saurashtra Cricke...|      A Nand Kishore|       S Ravi|   null|\n",
      "| 14|  2017|  Kolkata|4/15/2017|Kolkata Knight Ri...| Sunrisers Hyderabad| Sunrisers Hyderabad|        field|normal|         0|Kolkata Knight Ri...|         17|             0|     RV Uthappa|        Eden Gardens|         AY Dandekar|     NJ Llong|   null|\n",
      "| 15|  2017|    Delhi|4/15/2017|    Delhi Daredevils|     Kings XI Punjab|    Delhi Daredevils|          bat|normal|         0|    Delhi Daredevils|         51|             0|    CJ Anderson|    Feroz Shah Kotla|            YC Barde|  Nitin Menon|   null|\n",
      "| 16|  2017|   Mumbai|4/16/2017|       Gujarat Lions|      Mumbai Indians|      Mumbai Indians|        field|normal|         0|      Mumbai Indians|          0|             6|         N Rana|    Wankhede Stadium|      A Nand Kishore|       S Ravi|   null|\n",
      "| 17|  2017|Bangalore|4/16/2017|Rising Pune Super...|Royal Challengers...|Royal Challengers...|        field|normal|         0|Rising Pune Super...|         27|             0|      BA Stokes|M Chinnaswamy Sta...|KN Ananthapadmana...|C Shamshuddin|   null|\n",
      "| 18|  2017|    Delhi|4/17/2017|    Delhi Daredevils|Kolkata Knight Ri...|    Delhi Daredevils|          bat|normal|         0|Kolkata Knight Ri...|          0|             4|NM Coulter-Nile|    Feroz Shah Kotla|         Nitin Menon|    CK Nandan|   null|\n",
      "| 19|  2017|Hyderabad|4/17/2017| Sunrisers Hyderabad|     Kings XI Punjab|     Kings XI Punjab|        field|normal|         0| Sunrisers Hyderabad|          5|             0|        B Kumar|Rajiv Gandhi Inte...|         AY Dandekar|   A Deshmukh|   null|\n",
      "| 20|  2017|   Rajkot|4/18/2017|Royal Challengers...|       Gujarat Lions|       Gujarat Lions|        field|normal|         0|Royal Challengers...|         21|             0|       CH Gayle|Saurashtra Cricke...|              S Ravi|    VK Sharma|   null|\n",
      "+---+------+---------+---------+--------------------+--------------------+--------------------+-------------+------+----------+--------------------+-----------+--------------+---------------+--------------------+--------------------+-------------+-------+\n",
      "only showing top 20 rows\n",
      "\n"
     ]
    }
   ],
   "source": [
    "ipl1 = spark.read.format('csv').option('header', 'true').load('matches.csv')\n",
    " \n",
    "ipl1.createOrReplaceTempView('matches')\n",
    " \n",
    "ipl1.show()"
   ]
  },
  {
   "cell_type": "code",
   "execution_count": 3,
   "id": "defcaf02-d612-4bf5-86fc-2d72649336ff",
   "metadata": {},
   "outputs": [
    {
     "name": "stdout",
     "output_type": "stream",
     "text": [
      "+---+------+-------------------+--------------------+----+----+------------+------------+-----------+-------------+---------+--------+-----------+-----------+------------+------------+----------+----------+----------------+--------------+-------------+\n",
      "| id|inning|       batting_team|        bowling_team|over|ball|     batsman| non_striker|     bowler|is_super_over|wide_runs|bye_runs|legbye_runs|noball_runs|penalty_runs|batsman_runs|extra_runs|total_runs|player_dismissed|dismissal_kind|      fielder|\n",
      "+---+------+-------------------+--------------------+----+----+------------+------------+-----------+-------------+---------+--------+-----------+-----------+------------+------------+----------+----------+----------------+--------------+-------------+\n",
      "|  1|     1|Sunrisers Hyderabad|Royal Challengers...|   1|   1|   DA Warner|    S Dhawan|   TS Mills|            0|        0|       0|          0|          0|           0|           0|         0|         0|            null|          null|         null|\n",
      "|  2|     1|Sunrisers Hyderabad|Royal Challengers...|   1|   2|   DA Warner|    S Dhawan|   TS Mills|            0|        0|       0|          0|          0|           0|           0|         0|         0|            null|          null|         null|\n",
      "|  3|     1|Sunrisers Hyderabad|Royal Challengers...|   1|   3|   DA Warner|    S Dhawan|   TS Mills|            0|        0|       0|          0|          0|           0|           4|         0|         4|            null|          null|         null|\n",
      "|  4|     1|Sunrisers Hyderabad|Royal Challengers...|   1|   4|   DA Warner|    S Dhawan|   TS Mills|            0|        0|       0|          0|          0|           0|           0|         0|         0|            null|          null|         null|\n",
      "|  5|     1|Sunrisers Hyderabad|Royal Challengers...|   1|   5|   DA Warner|    S Dhawan|   TS Mills|            0|        2|       0|          0|          0|           0|           0|         2|         2|            null|          null|         null|\n",
      "|  6|     1|Sunrisers Hyderabad|Royal Challengers...|   1|   6|    S Dhawan|   DA Warner|   TS Mills|            0|        0|       0|          0|          0|           0|           0|         0|         0|            null|          null|         null|\n",
      "|  7|     1|Sunrisers Hyderabad|Royal Challengers...|   1|   7|    S Dhawan|   DA Warner|   TS Mills|            0|        0|       0|          1|          0|           0|           0|         1|         1|            null|          null|         null|\n",
      "|  8|     1|Sunrisers Hyderabad|Royal Challengers...|   2|   1|    S Dhawan|   DA Warner|A Choudhary|            0|        0|       0|          0|          0|           0|           1|         0|         1|            null|          null|         null|\n",
      "|  9|     1|Sunrisers Hyderabad|Royal Challengers...|   2|   2|   DA Warner|    S Dhawan|A Choudhary|            0|        0|       0|          0|          0|           0|           4|         0|         4|            null|          null|         null|\n",
      "| 10|     1|Sunrisers Hyderabad|Royal Challengers...|   2|   3|   DA Warner|    S Dhawan|A Choudhary|            0|        0|       0|          0|          1|           0|           0|         1|         1|            null|          null|         null|\n",
      "| 11|     1|Sunrisers Hyderabad|Royal Challengers...|   2|   4|   DA Warner|    S Dhawan|A Choudhary|            0|        0|       0|          0|          0|           0|           6|         0|         6|            null|          null|         null|\n",
      "| 12|     1|Sunrisers Hyderabad|Royal Challengers...|   2|   5|   DA Warner|    S Dhawan|A Choudhary|            0|        0|       0|          0|          0|           0|           0|         0|         0|       DA Warner|        caught|Mandeep Singh|\n",
      "| 13|     1|Sunrisers Hyderabad|Royal Challengers...|   2|   6|MC Henriques|    S Dhawan|A Choudhary|            0|        0|       0|          0|          0|           0|           0|         0|         0|            null|          null|         null|\n",
      "| 14|     1|Sunrisers Hyderabad|Royal Challengers...|   2|   7|MC Henriques|    S Dhawan|A Choudhary|            0|        0|       0|          0|          0|           0|           4|         0|         4|            null|          null|         null|\n",
      "| 15|     1|Sunrisers Hyderabad|Royal Challengers...|   3|   1|    S Dhawan|MC Henriques|   TS Mills|            0|        0|       0|          0|          0|           0|           1|         0|         1|            null|          null|         null|\n",
      "| 16|     1|Sunrisers Hyderabad|Royal Challengers...|   3|   2|MC Henriques|    S Dhawan|   TS Mills|            0|        0|       0|          0|          0|           0|           0|         0|         0|            null|          null|         null|\n",
      "| 17|     1|Sunrisers Hyderabad|Royal Challengers...|   3|   3|MC Henriques|    S Dhawan|   TS Mills|            0|        0|       0|          0|          0|           0|           0|         0|         0|            null|          null|         null|\n",
      "| 18|     1|Sunrisers Hyderabad|Royal Challengers...|   3|   4|MC Henriques|    S Dhawan|   TS Mills|            0|        0|       0|          0|          0|           0|           3|         0|         3|            null|          null|         null|\n",
      "| 19|     1|Sunrisers Hyderabad|Royal Challengers...|   3|   5|    S Dhawan|MC Henriques|   TS Mills|            0|        0|       0|          0|          0|           0|           1|         0|         1|            null|          null|         null|\n",
      "| 20|     1|Sunrisers Hyderabad|Royal Challengers...|   3|   6|MC Henriques|    S Dhawan|   TS Mills|            0|        0|       0|          0|          0|           0|           1|         0|         1|            null|          null|         null|\n",
      "+---+------+-------------------+--------------------+----+----+------------+------------+-----------+-------------+---------+--------+-----------+-----------+------------+------------+----------+----------+----------------+--------------+-------------+\n",
      "only showing top 20 rows\n",
      "\n"
     ]
    }
   ],
   "source": [
    "ipl2 = spark.read.format('csv').option('header', 'true').load('deliveries.csv')\n",
    " \n",
    "ipl2.createOrReplaceTempView('deliveries')\n",
    " \n",
    "ipl2.show()"
   ]
  },
  {
   "cell_type": "code",
   "execution_count": 4,
   "id": "9ed3af5f-d74b-4665-b6b0-5ba5cb961877",
   "metadata": {},
   "outputs": [
    {
     "name": "stdout",
     "output_type": "stream",
     "text": [
      "+------+---------------+--------------------+---------+\n",
      "|season|player_of_match|               venue|     city|\n",
      "+------+---------------+--------------------+---------+\n",
      "|  2011|        V Kohli|    Feroz Shah Kotla|    Delhi|\n",
      "|  2011|        V Kohli|M Chinnaswamy Sta...|Bangalore|\n",
      "|  2013|        V Kohli|M Chinnaswamy Sta...|Bangalore|\n",
      "|  2013|        V Kohli|M Chinnaswamy Sta...|Bangalore|\n",
      "|  2013|        V Kohli|M Chinnaswamy Sta...|Bangalore|\n",
      "|  2015|        V Kohli|Rajiv Gandhi Inte...|Hyderabad|\n",
      "|  2016|        V Kohli|Saurashtra Cricke...|   Rajkot|\n",
      "|  2016|        V Kohli|M Chinnaswamy Sta...|Bangalore|\n",
      "|  2016|        V Kohli|        Eden Gardens|  Kolkata|\n",
      "|  2016|        V Kohli|M Chinnaswamy Sta...|Bangalore|\n",
      "|  2016|        V Kohli|Shaheed Veer Nara...|   Raipur|\n",
      "|  2019|        V Kohli|        Eden Gardens|  Kolkata|\n",
      "+------+---------------+--------------------+---------+\n",
      "\n"
     ]
    }
   ],
   "source": [
    "# The goal is to find player of the match from 2008 to 2019 based on season, city and venue where player of the match is virat kohli\n",
    "\n",
    "spark.sql(' select season, player_of_match, venue, city from matches where player_of_match=\"V Kohli\"').show()"
   ]
  },
  {
   "cell_type": "code",
   "execution_count": 5,
   "id": "b989c596-0b8d-4af3-a46f-34baf26c2b9b",
   "metadata": {},
   "outputs": [
    {
     "name": "stdout",
     "output_type": "stream",
     "text": [
      "+------+--------------------+--------------------+------+\n",
      "|season|               team1|               team2|result|\n",
      "+------+--------------------+--------------------+------+\n",
      "|  2017|       Gujarat Lions|      Mumbai Indians|   tie|\n",
      "|  2009|    Rajasthan Royals|Kolkata Knight Ri...|   tie|\n",
      "|  2010|     Kings XI Punjab| Chennai Super Kings|   tie|\n",
      "|  2013|Royal Challengers...| Sunrisers Hyderabad|   tie|\n",
      "|  2013|    Delhi Daredevils|Royal Challengers...|   tie|\n",
      "|  2014|    Rajasthan Royals|Kolkata Knight Ri...|   tie|\n",
      "|  2015|    Rajasthan Royals|     Kings XI Punjab|   tie|\n",
      "|  2019|Kolkata Knight Ri...|      Delhi Capitals|   tie|\n",
      "|  2019|      Mumbai Indians| Sunrisers Hyderabad|   tie|\n",
      "+------+--------------------+--------------------+------+\n",
      "\n"
     ]
    }
   ],
   "source": [
    "# To find the matches which are tie from 2008 to 2019.\n",
    "\n",
    "spark.sql('select season, team1, team2, result from matches where result = \"tie\"').show()"
   ]
  },
  {
   "cell_type": "code",
   "execution_count": 6,
   "id": "f7c8fd2d-c9f8-4868-9390-e5b5eee18261",
   "metadata": {},
   "outputs": [
    {
     "name": "stdout",
     "output_type": "stream",
     "text": [
      "+--------------------+------+\n",
      "|              winner|result|\n",
      "+--------------------+------+\n",
      "|                null|     4|\n",
      "| Chennai Super Kings|   100|\n",
      "|     Deccan Chargers|    29|\n",
      "|      Delhi Capitals|    10|\n",
      "|    Delhi Daredevils|    67|\n",
      "|       Gujarat Lions|    13|\n",
      "|     Kings XI Punjab|    82|\n",
      "|Kochi Tuskers Kerala|     6|\n",
      "|Kolkata Knight Ri...|    92|\n",
      "|      Mumbai Indians|   109|\n",
      "|       Pune Warriors|    12|\n",
      "|    Rajasthan Royals|    75|\n",
      "|Rising Pune Super...|    10|\n",
      "|Rising Pune Super...|     5|\n",
      "|Royal Challengers...|    84|\n",
      "| Sunrisers Hyderabad|    58|\n",
      "+--------------------+------+\n",
      "\n"
     ]
    }
   ],
   "source": [
    "# To find highest number of wins by each team from 2008 to 2019 based on result.\n",
    "\n",
    "spark.sql('select winner, count(result) as result from matches where group by winner order by winner').show()"
   ]
  },
  {
   "cell_type": "code",
   "execution_count": 7,
   "id": "b53dd40f-c30a-4636-a0e8-5619da24f573",
   "metadata": {},
   "outputs": [
    {
     "name": "stdout",
     "output_type": "stream",
     "text": [
      "+------+--------------------+--------------------+-----------+---------------+\n",
      "|season|              winner|         toss_winner|win_by_runs|player_of_match|\n",
      "+------+--------------------+--------------------+-----------+---------------+\n",
      "|  2017|      Mumbai Indians|    Delhi Daredevils|        146|    LMP Simmons|\n",
      "|  2008|Kolkata Knight Ri...|Royal Challengers...|        140|    BB McCullum|\n",
      "|  2008|    Rajasthan Royals|    Delhi Daredevils|        105|      SR Watson|\n",
      "|  2011|     Kings XI Punjab|     Kings XI Punjab|        111|   AC Gilchrist|\n",
      "|  2013|Royal Challengers...|       Pune Warriors|        130|       CH Gayle|\n",
      "|  2015|Royal Challengers...|     Kings XI Punjab|        138|       CH Gayle|\n",
      "|  2016|Royal Challengers...|       Gujarat Lions|        144| AB de Villiers|\n",
      "|  2018|      Mumbai Indians|Kolkata Knight Ri...|        102|   Ishan Kishan|\n",
      "|  2019| Sunrisers Hyderabad|Royal Challengers...|        118|     J Bairstow|\n",
      "+------+--------------------+--------------------+-----------+---------------+\n",
      "\n"
     ]
    }
   ],
   "source": [
    "# To find the winning team with 100+ margin of runs based on season, toss winner and player of the match\n",
    "\n",
    "spark.sql('select season, winner, toss_winner, win_by_runs, player_of_match from matches where win_by_runs > 100').show()"
   ]
  },
  {
   "cell_type": "code",
   "execution_count": 8,
   "id": "bdd14b4c-1495-4dd8-a86d-ae7895f15ada",
   "metadata": {},
   "outputs": [
    {
     "name": "stdout",
     "output_type": "stream",
     "text": [
      "+------+--------------------+--------------------+-------------+--------------------+---------------+\n",
      "|season|              winner|         toss_winner|toss_decision|               venue|player_of_match|\n",
      "+------+--------------------+--------------------+-------------+--------------------+---------------+\n",
      "|  2017|Kolkata Knight Ri...|Kolkata Knight Ri...|        field|Saurashtra Cricke...|        CA Lynn|\n",
      "|  2017|     Kings XI Punjab|     Kings XI Punjab|        field|Punjab Cricket As...| Sandeep Sharma|\n",
      "|  2008|     Deccan Chargers|     Deccan Chargers|        field|Dr DY Patil Sport...|   AC Gilchrist|\n",
      "|  2009|    Delhi Daredevils|    Delhi Daredevils|        field|            Newlands|     DL Vettori|\n",
      "|  2010|Royal Challengers...|Royal Challengers...|        field|M Chinnaswamy Sta...|      JH Kallis|\n",
      "|  2011|    Rajasthan Royals|      Mumbai Indians|          bat|    Wankhede Stadium|      SR Watson|\n",
      "|  2012|      Mumbai Indians|    Rajasthan Royals|          bat|Sawai Mansingh St...|       DR Smith|\n",
      "|  2013| Chennai Super Kings| Chennai Super Kings|        field|Punjab Cricket As...|     MEK Hussey|\n",
      "|  2015|Royal Challengers...|Royal Challengers...|        field|    Feroz Shah Kotla|       VR Aaron|\n",
      "|  2016| Sunrisers Hyderabad| Sunrisers Hyderabad|        field|Saurashtra Cricke...|        B Kumar|\n",
      "|  2018|Royal Challengers...|Royal Challengers...|        field|Holkar Cricket St...|       UT Yadav|\n",
      "+------+--------------------+--------------------+-------------+--------------------+---------------+\n",
      "\n"
     ]
    }
   ],
   "source": [
    "# To find the team which win by 10 wickets margin based on season, winner, toss_winner, toss_decision, venue and player of the match.\n",
    "\n",
    "spark.sql('select season, winner, toss_winner, toss_decision, venue, player_of_match from matches where win_by_wickets >= 10').show()"
   ]
  },
  {
   "cell_type": "code",
   "execution_count": 15,
   "id": "0cacd5b7-852b-4e34-b4e2-c6137258262c",
   "metadata": {},
   "outputs": [
    {
     "name": "stdout",
     "output_type": "stream",
     "text": [
      "+--------------------+---------------+------------+------------+-------------------+\n",
      "|              winner|player_of_match|     batsman| non_striker|(is_super_over = 1)|\n",
      "+--------------------+---------------+------------+------------+-------------------+\n",
      "| Sunrisers Hyderabad|   Yuvraj Singh|   DA Warner|    S Dhawan|              false|\n",
      "|Rising Pune Super...|      SPD Smith|   DA Warner|    S Dhawan|              false|\n",
      "|Kolkata Knight Ri...|        CA Lynn|   DA Warner|    S Dhawan|              false|\n",
      "|     Kings XI Punjab|     GJ Maxwell|   DA Warner|    S Dhawan|              false|\n",
      "|Royal Challengers...|      KM Jadhav|   DA Warner|    S Dhawan|              false|\n",
      "| Sunrisers Hyderabad|    Rashid Khan|    S Dhawan|   DA Warner|              false|\n",
      "|      Mumbai Indians|         N Rana|    S Dhawan|   DA Warner|              false|\n",
      "|     Kings XI Punjab|       AR Patel|    S Dhawan|   DA Warner|              false|\n",
      "|    Delhi Daredevils|      SV Samson|   DA Warner|    S Dhawan|              false|\n",
      "|      Mumbai Indians|      JJ Bumrah|   DA Warner|    S Dhawan|              false|\n",
      "|Kolkata Knight Ri...|      SP Narine|   DA Warner|    S Dhawan|              false|\n",
      "|      Mumbai Indians|     KA Pollard|   DA Warner|    S Dhawan|              false|\n",
      "|       Gujarat Lions|         AJ Tye|MC Henriques|    S Dhawan|              false|\n",
      "|Kolkata Knight Ri...|     RV Uthappa|MC Henriques|    S Dhawan|              false|\n",
      "|    Delhi Daredevils|    CJ Anderson|    S Dhawan|MC Henriques|              false|\n",
      "|      Mumbai Indians|         N Rana|MC Henriques|    S Dhawan|              false|\n",
      "|Rising Pune Super...|      BA Stokes|MC Henriques|    S Dhawan|              false|\n",
      "|Kolkata Knight Ri...|NM Coulter-Nile|MC Henriques|    S Dhawan|              false|\n",
      "| Sunrisers Hyderabad|        B Kumar|    S Dhawan|MC Henriques|              false|\n",
      "|Royal Challengers...|       CH Gayle|MC Henriques|    S Dhawan|              false|\n",
      "+--------------------+---------------+------------+------------+-------------------+\n",
      "only showing top 20 rows\n",
      "\n"
     ]
    }
   ],
   "source": [
    "# Goal to combine two tables using Join where winner and player of the match from matches table and batsman, non striker and is super over from deliveries table.\n",
    "\n",
    "spark.sql('select matches.winner, matches.player_of_match, deliveries.batsman, deliveries.non_striker, deliveries.is_super_over = 1 FROM matches JOIN deliveries where matches.id = deliveries.id').show()"
   ]
  }
 ],
 "metadata": {
  "kernelspec": {
   "display_name": "Python 3 (ipykernel)",
   "language": "python",
   "name": "python3"
  },
  "language_info": {
   "codemirror_mode": {
    "name": "ipython",
    "version": 3
   },
   "file_extension": ".py",
   "mimetype": "text/x-python",
   "name": "python",
   "nbconvert_exporter": "python",
   "pygments_lexer": "ipython3",
   "version": "3.10.9"
  }
 },
 "nbformat": 4,
 "nbformat_minor": 5
}
